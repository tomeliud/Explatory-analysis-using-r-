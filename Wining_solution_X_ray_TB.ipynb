{
  "nbformat": 4,
  "nbformat_minor": 0,
  "metadata": {
    "colab": {
      "name": "Wining_solution_X-ray_TB.ipynb",
      "provenance": [],
      "collapsed_sections": [],
      "authorship_tag": "ABX9TyNp60w28or74234et1GDh1m",
      "include_colab_link": true
    },
    "kernelspec": {
      "name": "python3",
      "display_name": "Python 3"
    },
    "widgets": {
      "application/vnd.jupyter.widget-state+json": {
        "9a189078434a44bcaf48ca4cc943ef46": {
          "model_module": "@jupyter-widgets/controls",
          "model_name": "HBoxModel",
          "state": {
            "_view_name": "HBoxView",
            "_dom_classes": [],
            "_model_name": "HBoxModel",
            "_view_module": "@jupyter-widgets/controls",
            "_model_module_version": "1.5.0",
            "_view_count": null,
            "_view_module_version": "1.5.0",
            "box_style": "",
            "layout": "IPY_MODEL_7ffe5be3e20f45ababd73225ad5b2a06",
            "_model_module": "@jupyter-widgets/controls",
            "children": [
              "IPY_MODEL_82b3577c4c5040559cb8d37abf85fc7a",
              "IPY_MODEL_08057898a7854694bff9bf234565d89a"
            ]
          }
        },
        "7ffe5be3e20f45ababd73225ad5b2a06": {
          "model_module": "@jupyter-widgets/base",
          "model_name": "LayoutModel",
          "state": {
            "_view_name": "LayoutView",
            "grid_template_rows": null,
            "right": null,
            "justify_content": null,
            "_view_module": "@jupyter-widgets/base",
            "overflow": null,
            "_model_module_version": "1.2.0",
            "_view_count": null,
            "flex_flow": null,
            "width": null,
            "min_width": null,
            "border": null,
            "align_items": null,
            "bottom": null,
            "_model_module": "@jupyter-widgets/base",
            "top": null,
            "grid_column": null,
            "overflow_y": null,
            "overflow_x": null,
            "grid_auto_flow": null,
            "grid_area": null,
            "grid_template_columns": null,
            "flex": null,
            "_model_name": "LayoutModel",
            "justify_items": null,
            "grid_row": null,
            "max_height": null,
            "align_content": null,
            "visibility": null,
            "align_self": null,
            "height": null,
            "min_height": null,
            "padding": null,
            "grid_auto_rows": null,
            "grid_gap": null,
            "max_width": null,
            "order": null,
            "_view_module_version": "1.2.0",
            "grid_template_areas": null,
            "object_position": null,
            "object_fit": null,
            "grid_auto_columns": null,
            "margin": null,
            "display": null,
            "left": null
          }
        },
        "82b3577c4c5040559cb8d37abf85fc7a": {
          "model_module": "@jupyter-widgets/controls",
          "model_name": "FloatProgressModel",
          "state": {
            "_view_name": "ProgressView",
            "style": "IPY_MODEL_8a3ca76716c44dc086e0333990611561",
            "_dom_classes": [],
            "description": "100%",
            "_model_name": "FloatProgressModel",
            "bar_style": "success",
            "max": 21388428,
            "_view_module": "@jupyter-widgets/controls",
            "_model_module_version": "1.5.0",
            "value": 21388428,
            "_view_count": null,
            "_view_module_version": "1.5.0",
            "orientation": "horizontal",
            "min": 0,
            "description_tooltip": null,
            "_model_module": "@jupyter-widgets/controls",
            "layout": "IPY_MODEL_da39b331a7a44572ba40322b70aa6baa"
          }
        },
        "08057898a7854694bff9bf234565d89a": {
          "model_module": "@jupyter-widgets/controls",
          "model_name": "HTMLModel",
          "state": {
            "_view_name": "HTMLView",
            "style": "IPY_MODEL_4d05daba997e40b48121f133c87da48f",
            "_dom_classes": [],
            "description": "",
            "_model_name": "HTMLModel",
            "placeholder": "​",
            "_view_module": "@jupyter-widgets/controls",
            "_model_module_version": "1.5.0",
            "value": " 20.4M/20.4M [00:00&lt;00:00, 58.1MB/s]",
            "_view_count": null,
            "_view_module_version": "1.5.0",
            "description_tooltip": null,
            "_model_module": "@jupyter-widgets/controls",
            "layout": "IPY_MODEL_82b7ec1a3c8e4803a851eef19de4ba0d"
          }
        },
        "8a3ca76716c44dc086e0333990611561": {
          "model_module": "@jupyter-widgets/controls",
          "model_name": "ProgressStyleModel",
          "state": {
            "_view_name": "StyleView",
            "_model_name": "ProgressStyleModel",
            "description_width": "initial",
            "_view_module": "@jupyter-widgets/base",
            "_model_module_version": "1.5.0",
            "_view_count": null,
            "_view_module_version": "1.2.0",
            "bar_color": null,
            "_model_module": "@jupyter-widgets/controls"
          }
        },
        "da39b331a7a44572ba40322b70aa6baa": {
          "model_module": "@jupyter-widgets/base",
          "model_name": "LayoutModel",
          "state": {
            "_view_name": "LayoutView",
            "grid_template_rows": null,
            "right": null,
            "justify_content": null,
            "_view_module": "@jupyter-widgets/base",
            "overflow": null,
            "_model_module_version": "1.2.0",
            "_view_count": null,
            "flex_flow": null,
            "width": null,
            "min_width": null,
            "border": null,
            "align_items": null,
            "bottom": null,
            "_model_module": "@jupyter-widgets/base",
            "top": null,
            "grid_column": null,
            "overflow_y": null,
            "overflow_x": null,
            "grid_auto_flow": null,
            "grid_area": null,
            "grid_template_columns": null,
            "flex": null,
            "_model_name": "LayoutModel",
            "justify_items": null,
            "grid_row": null,
            "max_height": null,
            "align_content": null,
            "visibility": null,
            "align_self": null,
            "height": null,
            "min_height": null,
            "padding": null,
            "grid_auto_rows": null,
            "grid_gap": null,
            "max_width": null,
            "order": null,
            "_view_module_version": "1.2.0",
            "grid_template_areas": null,
            "object_position": null,
            "object_fit": null,
            "grid_auto_columns": null,
            "margin": null,
            "display": null,
            "left": null
          }
        },
        "4d05daba997e40b48121f133c87da48f": {
          "model_module": "@jupyter-widgets/controls",
          "model_name": "DescriptionStyleModel",
          "state": {
            "_view_name": "StyleView",
            "_model_name": "DescriptionStyleModel",
            "description_width": "",
            "_view_module": "@jupyter-widgets/base",
            "_model_module_version": "1.5.0",
            "_view_count": null,
            "_view_module_version": "1.2.0",
            "_model_module": "@jupyter-widgets/controls"
          }
        },
        "82b7ec1a3c8e4803a851eef19de4ba0d": {
          "model_module": "@jupyter-widgets/base",
          "model_name": "LayoutModel",
          "state": {
            "_view_name": "LayoutView",
            "grid_template_rows": null,
            "right": null,
            "justify_content": null,
            "_view_module": "@jupyter-widgets/base",
            "overflow": null,
            "_model_module_version": "1.2.0",
            "_view_count": null,
            "flex_flow": null,
            "width": null,
            "min_width": null,
            "border": null,
            "align_items": null,
            "bottom": null,
            "_model_module": "@jupyter-widgets/base",
            "top": null,
            "grid_column": null,
            "overflow_y": null,
            "overflow_x": null,
            "grid_auto_flow": null,
            "grid_area": null,
            "grid_template_columns": null,
            "flex": null,
            "_model_name": "LayoutModel",
            "justify_items": null,
            "grid_row": null,
            "max_height": null,
            "align_content": null,
            "visibility": null,
            "align_self": null,
            "height": null,
            "min_height": null,
            "padding": null,
            "grid_auto_rows": null,
            "grid_gap": null,
            "max_width": null,
            "order": null,
            "_view_module_version": "1.2.0",
            "grid_template_areas": null,
            "object_position": null,
            "object_fit": null,
            "grid_auto_columns": null,
            "margin": null,
            "display": null,
            "left": null
          }
        }
      }
    }
  },
  "cells": [
    {
      "cell_type": "markdown",
      "metadata": {
        "id": "view-in-github",
        "colab_type": "text"
      },
      "source": [
        "<a href=\"https://colab.research.google.com/github/tomeliud/Explatory-analysis-using-r-/blob/master/Wining_solution_X_ray_TB.ipynb\" target=\"_parent\"><img src=\"https://colab.research.google.com/assets/colab-badge.svg\" alt=\"Open In Colab\"/></a>"
      ]
    },
    {
      "cell_type": "code",
      "metadata": {
        "id": "rAf7XUMclN1P",
        "colab": {
          "base_uri": "https://localhost:8080/"
        },
        "outputId": "6f277689-3ea1-4258-9217-828b0b6758b5"
      },
      "source": [
        "!pip install nvidia-smi"
      ],
      "execution_count": null,
      "outputs": [
        {
          "output_type": "stream",
          "text": [
            "Requirement already satisfied: nvidia-smi in /usr/local/lib/python3.6/dist-packages (0.1.3)\n",
            "Requirement already satisfied: six>=1.12.0 in /usr/local/lib/python3.6/dist-packages (from nvidia-smi) (1.15.0)\n",
            "Requirement already satisfied: pytest>=4.3.1 in /usr/local/lib/python3.6/dist-packages (from nvidia-smi) (6.2.1)\n",
            "Requirement already satisfied: sorcery>=0.1.0 in /usr/local/lib/python3.6/dist-packages (from nvidia-smi) (0.2.1)\n",
            "Requirement already satisfied: numpy>=1.16.2 in /usr/local/lib/python3.6/dist-packages (from nvidia-smi) (1.19.4)\n",
            "Requirement already satisfied: iniconfig in /usr/local/lib/python3.6/dist-packages (from pytest>=4.3.1->nvidia-smi) (1.1.1)\n",
            "Requirement already satisfied: py>=1.8.2 in /usr/local/lib/python3.6/dist-packages (from pytest>=4.3.1->nvidia-smi) (1.10.0)\n",
            "Requirement already satisfied: packaging in /usr/local/lib/python3.6/dist-packages (from pytest>=4.3.1->nvidia-smi) (20.8)\n",
            "Requirement already satisfied: toml in /usr/local/lib/python3.6/dist-packages (from pytest>=4.3.1->nvidia-smi) (0.10.2)\n",
            "Requirement already satisfied: importlib-metadata>=0.12; python_version < \"3.8\" in /usr/local/lib/python3.6/dist-packages (from pytest>=4.3.1->nvidia-smi) (3.3.0)\n",
            "Requirement already satisfied: attrs>=19.2.0 in /usr/local/lib/python3.6/dist-packages (from pytest>=4.3.1->nvidia-smi) (20.3.0)\n",
            "Requirement already satisfied: pluggy<1.0.0a1,>=0.12 in /usr/local/lib/python3.6/dist-packages (from pytest>=4.3.1->nvidia-smi) (0.13.1)\n",
            "Requirement already satisfied: wrapt in /usr/local/lib/python3.6/dist-packages (from sorcery>=0.1.0->nvidia-smi) (1.12.1)\n",
            "Requirement already satisfied: executing in /usr/local/lib/python3.6/dist-packages (from sorcery>=0.1.0->nvidia-smi) (0.5.3)\n",
            "Requirement already satisfied: littleutils>=0.2.1 in /usr/local/lib/python3.6/dist-packages (from sorcery>=0.1.0->nvidia-smi) (0.2.2)\n",
            "Requirement already satisfied: asttokens in /usr/local/lib/python3.6/dist-packages (from sorcery>=0.1.0->nvidia-smi) (2.0.4)\n",
            "Requirement already satisfied: pyparsing>=2.0.2 in /usr/local/lib/python3.6/dist-packages (from packaging->pytest>=4.3.1->nvidia-smi) (2.4.7)\n",
            "Requirement already satisfied: zipp>=0.5 in /usr/local/lib/python3.6/dist-packages (from importlib-metadata>=0.12; python_version < \"3.8\"->pytest>=4.3.1->nvidia-smi) (3.4.0)\n",
            "Requirement already satisfied: typing-extensions>=3.6.4; python_version < \"3.8\" in /usr/local/lib/python3.6/dist-packages (from importlib-metadata>=0.12; python_version < \"3.8\"->pytest>=4.3.1->nvidia-smi) (3.7.4.3)\n"
          ],
          "name": "stdout"
        }
      ]
    },
    {
      "cell_type": "code",
      "metadata": {
        "id": "ndgsVDMui66v",
        "colab": {
          "base_uri": "https://localhost:8080/"
        },
        "outputId": "16a0af69-8082-49a6-8679-473594f3b376"
      },
      "source": [
        "!nvidia-smi"
      ],
      "execution_count": null,
      "outputs": [
        {
          "output_type": "stream",
          "text": [
            "NVIDIA-SMI has failed because it couldn't communicate with the NVIDIA driver. Make sure that the latest NVIDIA driver is installed and running.\n",
            "\n"
          ],
          "name": "stdout"
        }
      ]
    },
    {
      "cell_type": "markdown",
      "metadata": {
        "id": "X9apSRpOjIQo"
      },
      "source": [
        "## Import Full-Size-Images"
      ]
    },
    {
      "cell_type": "code",
      "metadata": {
        "id": "pza3OunJjE5i",
        "colab": {
          "base_uri": "https://localhost:8080/"
        },
        "outputId": "e18148ca-4dd6-4982-e0b2-d3f8b33a96dd"
      },
      "source": [
        "!gdown https://drive.google.com/uc?id=1KdpV3M27kV-_QOQOrAentfzZ2tew8YS-&"
      ],
      "execution_count": null,
      "outputs": [
        {
          "output_type": "stream",
          "text": [
            "Downloading...\n",
            "From: https://drive.google.com/uc?id=1KdpV3M27kV-_QOQOrAentfzZ2tew8YS-\n",
            "To: /content/images_fullsize.zip\n",
            "4.38GB [00:57, 76.5MB/s]\n"
          ],
          "name": "stdout"
        }
      ]
    },
    {
      "cell_type": "code",
      "metadata": {
        "id": "1S65Ki5BjL7S"
      },
      "source": [
        "!unzip -q /content/images_fullsize.zip"
      ],
      "execution_count": null,
      "outputs": []
    },
    {
      "cell_type": "code",
      "metadata": {
        "id": "STiHbAEcjPQh",
        "colab": {
          "base_uri": "https://localhost:8080/"
        },
        "outputId": "bbc22acd-f707-45e3-9b36-dd0f849e6226"
      },
      "source": [
        "!pip install fastai --upgrade -q\n",
        "!pip install -q efficientnet_pytorch"
      ],
      "execution_count": null,
      "outputs": [
        {
          "output_type": "stream",
          "text": [
            "\u001b[K     |████████████████████████████████| 194kB 5.3MB/s \n",
            "\u001b[K     |████████████████████████████████| 61kB 5.4MB/s \n",
            "\u001b[?25h  Building wheel for efficientnet-pytorch (setup.py) ... \u001b[?25l\u001b[?25hdone\n"
          ],
          "name": "stdout"
        }
      ]
    },
    {
      "cell_type": "code",
      "metadata": {
        "id": "SPUpdGiWimaf"
      },
      "source": [
        "!pip install --upgrade fastcore -q\r\n",
        "!pip install --upgrade fastai -q"
      ],
      "execution_count": null,
      "outputs": []
    },
    {
      "cell_type": "markdown",
      "metadata": {
        "id": "W1ErfXwAjV5h"
      },
      "source": [
        "## Libraries-Env"
      ]
    },
    {
      "cell_type": "code",
      "metadata": {
        "id": "TSxCtPpqjS5W"
      },
      "source": [
        "import random\n",
        "import numpy as np\n",
        "import gc\n",
        "from fastai.vision.all import *\n",
        "from fastai.vision import *\n",
        "from pathlib import Path\n",
        "import matplotlib.pyplot as plt\n",
        "from efficientnet_pytorch import EfficientNet"
      ],
      "execution_count": null,
      "outputs": []
    },
    {
      "cell_type": "code",
      "metadata": {
        "id": "wJpIifbZjcag"
      },
      "source": [
        "SEED_VAL  = 42\n",
        "# Set the seed value all over the place to make this reproducible.\n",
        "def seed_all(SEED):\n",
        "  random.seed(SEED_VAL)\n",
        "  np.random.seed(SEED_VAL)\n",
        "  torch.manual_seed(SEED_VAL)\n",
        "  torch.cuda.manual_seed_all(SEED_VAL)\n",
        "  os.environ['PYTHONHASHSEED'] = str(SEED_VAL)\n",
        "  torch.backends.cudnn.deterministic = True\n",
        "  torch.backends.cudnn.benchmark = False"
      ],
      "execution_count": null,
      "outputs": []
    },
    {
      "cell_type": "code",
      "metadata": {
        "id": "ERggK-tUjfPc",
        "colab": {
          "base_uri": "https://localhost:8080/"
        },
        "outputId": "277965c4-9efe-49cb-9fdc-4809ce53e674"
      },
      "source": [
        "print('Make sure cuda is installed:', torch.cuda.is_available())\n",
        "print('Make sure cudnn is enabled:', torch.backends.cudnn.enabled)"
      ],
      "execution_count": null,
      "outputs": [
        {
          "output_type": "stream",
          "text": [
            "Make sure cuda is installed: False\n",
            "Make sure cudnn is enabled: True\n"
          ],
          "name": "stdout"
        }
      ]
    },
    {
      "cell_type": "markdown",
      "metadata": {
        "id": "OHBx8FQpjlgr"
      },
      "source": [
        "## Train-Submission"
      ]
    },
    {
      "cell_type": "code",
      "metadata": {
        "id": "Kc-jc-pAjirM"
      },
      "source": [
        "def get_model(dls,pretrained=True, **kwargs):\n",
        "    model = EfficientNet.from_pretrained(model_name)\n",
        "    model._fc = nn.Linear(model._fc.in_features, dls.c)\n",
        "    return model"
      ],
      "execution_count": null,
      "outputs": []
    },
    {
      "cell_type": "code",
      "metadata": {
        "id": "5ogDHT_fjxuS"
      },
      "source": [
        "#params\n",
        "model_name = 'efficientnet-b0'\n",
        "\n",
        "def X_Rays_FASTAI_First_Place_Solution() :\n",
        "  seed_all(SEED_VAL)\n",
        "  df = pd.read_csv(\"/content/Train.csv\")\n",
        "  df2 = pd.read_csv(\"/content/Test.csv\")\n",
        "  dls = ImageDataLoaders.from_df(df,\n",
        "                               path='/content', \n",
        "                               label_col=\"LABEL\",\n",
        "                               item_tfms=RandomResizedCrop(512, min_scale=0.5),\n",
        "                               batch_tfms=aug_transforms(mult=1.0, do_flip=True, \n",
        "                                                        flip_vert=True, max_rotate=10., \n",
        "                                                        max_zoom=1.1,max_warp=0.2, \n",
        "                                                        p_affine=0.75, p_lighting=0, \n",
        "                                                        xtra_tfms=None),\n",
        "                               valid_pct=0.03,\n",
        "                               bs=8,\n",
        "                               val_bs=8)\n",
        "  # define - Learner\n",
        "  learn = Learner(dls=dls,model= get_model(dls), metrics=[accuracy])\n",
        "  print(\"\\n `\\n Start Training ....\")\n",
        "  learn.fit_one_cycle(20,1e-3)\n",
        "  print(\"\\n `\\n Unfreeze & Again Training ....\")\n",
        "  learn.unfreeze()\n",
        "  learn.fit_one_cycle(5,1e-4)\n",
        "  print(\"\\n `\\n Start PREDICTING ....\")\n",
        "  test_image_ids = [img.split(\".\")[0] for img in os.listdir(\"/content/test\") ]\n",
        "  test_images = [f\"/content/test/{img}.png\" for img in test_image_ids]\n",
        "  preds = learn.get_preds(dl=dls.test_dl(test_images, shuffle=False, drop_last=False))\n",
        "  imglabels = list(df.columns[1:])\n",
        "  ls = preds[0]\n",
        "  lss = list(ls[0])\n",
        "  vocab = list(dls[0].dataset.vocab)\n",
        "  submission = pd.DataFrame()\n",
        "  submission[\"ID\"] = test_image_ids\n",
        "  for i in range(2):\n",
        "    submission[vocab[i]] = ls[:, i]\n",
        "  submission=submission.drop([0], axis=1)\n",
        "  return submission"
      ],
      "execution_count": null,
      "outputs": []
    },
    {
      "cell_type": "code",
      "metadata": {
        "id": "hj8LZgPMj5PO",
        "colab": {
          "base_uri": "https://localhost:8080/",
          "height": 1000,
          "referenced_widgets": [
            "9a189078434a44bcaf48ca4cc943ef46",
            "7ffe5be3e20f45ababd73225ad5b2a06",
            "82b3577c4c5040559cb8d37abf85fc7a",
            "08057898a7854694bff9bf234565d89a",
            "8a3ca76716c44dc086e0333990611561",
            "da39b331a7a44572ba40322b70aa6baa",
            "4d05daba997e40b48121f133c87da48f",
            "82b7ec1a3c8e4803a851eef19de4ba0d"
          ]
        },
        "outputId": "ebbcb0c8-eeb5-4b01-db82-cea49eaea5c5"
      },
      "source": [
        "submission = X_Rays_FASTAI_First_Place_Solution()\n",
        "submission.to_csv(\"effb0.csv\", index=False)"
      ],
      "execution_count": null,
      "outputs": [
        {
          "output_type": "stream",
          "text": [
            "Downloading: \"https://github.com/lukemelas/EfficientNet-PyTorch/releases/download/1.0/efficientnet-b0-355c32eb.pth\" to /root/.cache/torch/hub/checkpoints/efficientnet-b0-355c32eb.pth\n"
          ],
          "name": "stderr"
        },
        {
          "output_type": "display_data",
          "data": {
            "application/vnd.jupyter.widget-view+json": {
              "model_id": "9a189078434a44bcaf48ca4cc943ef46",
              "version_minor": 0,
              "version_major": 2
            },
            "text/plain": [
              "HBox(children=(FloatProgress(value=0.0, max=21388428.0), HTML(value='')))"
            ]
          },
          "metadata": {
            "tags": []
          }
        },
        {
          "output_type": "stream",
          "text": [
            "\n",
            "Loaded pretrained weights for efficientnet-b0\n",
            "\n",
            " `\n",
            " Start Training ....\n"
          ],
          "name": "stdout"
        },
        {
          "output_type": "display_data",
          "data": {
            "text/html": [
              "<table border=\"1\" class=\"dataframe\">\n",
              "  <thead>\n",
              "    <tr style=\"text-align: left;\">\n",
              "      <th>epoch</th>\n",
              "      <th>train_loss</th>\n",
              "      <th>valid_loss</th>\n",
              "      <th>accuracy</th>\n",
              "      <th>time</th>\n",
              "    </tr>\n",
              "  </thead>\n",
              "  <tbody>\n",
              "    <tr>\n",
              "      <td>0</td>\n",
              "      <td>0.623487</td>\n",
              "      <td>0.744320</td>\n",
              "      <td>0.428571</td>\n",
              "      <td>20:30</td>\n",
              "    </tr>\n",
              "    <tr>\n",
              "      <td>1</td>\n",
              "      <td>0.544751</td>\n",
              "      <td>0.746327</td>\n",
              "      <td>0.285714</td>\n",
              "      <td>20:29</td>\n",
              "    </tr>\n",
              "    <tr>\n",
              "      <td>2</td>\n",
              "      <td>0.522088</td>\n",
              "      <td>1.104756</td>\n",
              "      <td>0.476190</td>\n",
              "      <td>20:33</td>\n",
              "    </tr>\n",
              "    <tr>\n",
              "      <td>3</td>\n",
              "      <td>0.522610</td>\n",
              "      <td>0.547474</td>\n",
              "      <td>0.714286</td>\n",
              "      <td>20:39</td>\n",
              "    </tr>\n",
              "    <tr>\n",
              "      <td>4</td>\n",
              "      <td>0.526137</td>\n",
              "      <td>3.116190</td>\n",
              "      <td>0.428571</td>\n",
              "      <td>20:32</td>\n",
              "    </tr>\n",
              "    <tr>\n",
              "      <td>5</td>\n",
              "      <td>0.543114</td>\n",
              "      <td>0.462427</td>\n",
              "      <td>0.809524</td>\n",
              "      <td>20:30</td>\n",
              "    </tr>\n",
              "    <tr>\n",
              "      <td>6</td>\n",
              "      <td>0.505429</td>\n",
              "      <td>0.313034</td>\n",
              "      <td>0.904762</td>\n",
              "      <td>20:31</td>\n",
              "    </tr>\n",
              "    <tr>\n",
              "      <td>7</td>\n",
              "      <td>0.490713</td>\n",
              "      <td>0.727957</td>\n",
              "      <td>0.666667</td>\n",
              "      <td>20:36</td>\n",
              "    </tr>\n",
              "    <tr>\n",
              "      <td>8</td>\n",
              "      <td>0.449061</td>\n",
              "      <td>0.581640</td>\n",
              "      <td>0.714286</td>\n",
              "      <td>20:33</td>\n",
              "    </tr>\n",
              "    <tr>\n",
              "      <td>9</td>\n",
              "      <td>0.423753</td>\n",
              "      <td>1.301287</td>\n",
              "      <td>0.571429</td>\n",
              "      <td>20:35</td>\n",
              "    </tr>\n",
              "    <tr>\n",
              "      <td>10</td>\n",
              "      <td>0.415696</td>\n",
              "      <td>0.279338</td>\n",
              "      <td>0.904762</td>\n",
              "      <td>20:32</td>\n",
              "    </tr>\n",
              "    <tr>\n",
              "      <td>11</td>\n",
              "      <td>0.402727</td>\n",
              "      <td>0.335943</td>\n",
              "      <td>0.857143</td>\n",
              "      <td>20:30</td>\n",
              "    </tr>\n",
              "    <tr>\n",
              "      <td>12</td>\n",
              "      <td>0.347692</td>\n",
              "      <td>0.144685</td>\n",
              "      <td>1.000000</td>\n",
              "      <td>20:38</td>\n",
              "    </tr>\n",
              "    <tr>\n",
              "      <td>13</td>\n",
              "      <td>0.335920</td>\n",
              "      <td>0.245942</td>\n",
              "      <td>0.904762</td>\n",
              "      <td>20:37</td>\n",
              "    </tr>\n",
              "    <tr>\n",
              "      <td>14</td>\n",
              "      <td>0.266816</td>\n",
              "      <td>0.135572</td>\n",
              "      <td>0.904762</td>\n",
              "      <td>20:31</td>\n",
              "    </tr>\n",
              "    <tr>\n",
              "      <td>15</td>\n",
              "      <td>0.207381</td>\n",
              "      <td>0.095967</td>\n",
              "      <td>0.904762</td>\n",
              "      <td>20:31</td>\n",
              "    </tr>\n",
              "    <tr>\n",
              "      <td>16</td>\n",
              "      <td>0.197510</td>\n",
              "      <td>0.107749</td>\n",
              "      <td>0.904762</td>\n",
              "      <td>20:35</td>\n",
              "    </tr>\n",
              "    <tr>\n",
              "      <td>17</td>\n",
              "      <td>0.229281</td>\n",
              "      <td>0.095736</td>\n",
              "      <td>0.904762</td>\n",
              "      <td>20:30</td>\n",
              "    </tr>\n",
              "    <tr>\n",
              "      <td>18</td>\n",
              "      <td>0.226539</td>\n",
              "      <td>0.096848</td>\n",
              "      <td>0.904762</td>\n",
              "      <td>20:34</td>\n",
              "    </tr>\n",
              "    <tr>\n",
              "      <td>19</td>\n",
              "      <td>0.195940</td>\n",
              "      <td>0.100701</td>\n",
              "      <td>0.904762</td>\n",
              "      <td>20:38</td>\n",
              "    </tr>\n",
              "  </tbody>\n",
              "</table>"
            ],
            "text/plain": [
              "<IPython.core.display.HTML object>"
            ]
          },
          "metadata": {
            "tags": []
          }
        },
        {
          "output_type": "stream",
          "text": [
            "\n",
            " `\n",
            " Unfreeze & Again Training ....\n"
          ],
          "name": "stdout"
        },
        {
          "output_type": "display_data",
          "data": {
            "text/html": [
              "<table border=\"1\" class=\"dataframe\">\n",
              "  <thead>\n",
              "    <tr style=\"text-align: left;\">\n",
              "      <th>epoch</th>\n",
              "      <th>train_loss</th>\n",
              "      <th>valid_loss</th>\n",
              "      <th>accuracy</th>\n",
              "      <th>time</th>\n",
              "    </tr>\n",
              "  </thead>\n",
              "  <tbody>\n",
              "    <tr>\n",
              "      <td>0</td>\n",
              "      <td>0.187958</td>\n",
              "      <td>0.159605</td>\n",
              "      <td>0.904762</td>\n",
              "      <td>20:35</td>\n",
              "    </tr>\n",
              "    <tr>\n",
              "      <td>1</td>\n",
              "      <td>0.213172</td>\n",
              "      <td>0.155257</td>\n",
              "      <td>0.904762</td>\n",
              "      <td>20:42</td>\n",
              "    </tr>\n",
              "    <tr>\n",
              "      <td>2</td>\n",
              "      <td>0.234122</td>\n",
              "      <td>0.150432</td>\n",
              "      <td>0.904762</td>\n",
              "      <td>20:47</td>\n",
              "    </tr>\n",
              "    <tr>\n",
              "      <td>3</td>\n",
              "      <td>0.197624</td>\n",
              "      <td>0.126174</td>\n",
              "      <td>0.904762</td>\n",
              "      <td>20:48</td>\n",
              "    </tr>\n",
              "    <tr>\n",
              "      <td>4</td>\n",
              "      <td>0.209643</td>\n",
              "      <td>0.115080</td>\n",
              "      <td>0.904762</td>\n",
              "      <td>20:52</td>\n",
              "    </tr>\n",
              "  </tbody>\n",
              "</table>"
            ],
            "text/plain": [
              "<IPython.core.display.HTML object>"
            ]
          },
          "metadata": {
            "tags": []
          }
        },
        {
          "output_type": "stream",
          "text": [
            "\n",
            " `\n",
            " Start PREDICTING ....\n"
          ],
          "name": "stdout"
        },
        {
          "output_type": "display_data",
          "data": {
            "text/html": [
              ""
            ],
            "text/plain": [
              "<IPython.core.display.HTML object>"
            ]
          },
          "metadata": {
            "tags": []
          }
        }
      ]
    }
  ]
}